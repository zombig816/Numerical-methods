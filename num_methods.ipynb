{
  "nbformat": 4,
  "nbformat_minor": 0,
  "metadata": {
    "colab": {
      "provenance": [],
      "authorship_tag": "ABX9TyMFob7ksmkg/9GmEUM4kL+j",
      "include_colab_link": true
    },
    "kernelspec": {
      "name": "python3",
      "display_name": "Python 3"
    },
    "language_info": {
      "name": "python"
    }
  },
  "cells": [
    {
      "cell_type": "markdown",
      "metadata": {
        "id": "view-in-github",
        "colab_type": "text"
      },
      "source": [
        "<a href=\"https://colab.research.google.com/github/zombig816/Numerical-methods/blob/main/num_methods.ipynb\" target=\"_parent\"><img src=\"https://colab.research.google.com/assets/colab-badge.svg\" alt=\"Open In Colab\"/></a>"
      ]
    },
    {
      "cell_type": "code",
      "execution_count": 25,
      "metadata": {
        "colab": {
          "base_uri": "https://localhost:8080/",
          "height": 447
        },
        "id": "ydBZ_T351zLl",
        "outputId": "fd2d2744-5a7a-418a-d089-30621b997853"
      },
      "outputs": [
        {
          "output_type": "stream",
          "name": "stdout",
          "text": [
            "99\n"
          ]
        },
        {
          "output_type": "display_data",
          "data": {
            "text/plain": [
              "<Figure size 640x480 with 1 Axes>"
            ],
            "image/png": "[encoded data removed]"
          },
          "metadata": {}
        }
      ],
      "source": [
        "import numpy as np\n",
        "import matplotlib.pyplot as plt\n",
        "\n",
        "def f(x, eps):\n",
        "  return ((1/eps) + np.pi**2) + np.cos(np.pi * x)\n",
        "\n",
        "def q(x, eps):\n",
        "  return 1/eps\n",
        "\n",
        "def u(x, eps):\n",
        "  return (np.cos(np.pi * x)\n",
        "   + np.exp((x - 1.0)/(eps**0.5))\n",
        "    + np.exp(-(x + 1.0)/(eps**0.5)))\n",
        "\n",
        "def progonka(a, b, N, eps, f, q, u):\n",
        "  h = (b - a) / N\n",
        "  ua = u(a, eps)\n",
        "  ub = u(b, eps)\n",
        "  x = np.linspace(a, b, N)\n",
        "  A = - (1/(h**2))\n",
        "  C = - (1/(h**2))\n",
        "  B = (2/(h**2)) + q(x, eps)\n",
        "  F = (f(x, eps))\n",
        "\n",
        "  alpha = [(-C / B)]\n",
        "  betta = [(F[0]/B)]\n",
        "\n",
        "  for i in range(1, N-1):\n",
        "    alpha.append( -(C/(B + alpha[i-1]*A)) )\n",
        "    betta.append( (F[i] - A*betta[i-1]) / (B + A*alpha[i-1]) )\n",
        "\n",
        "  y = [(F[-1] - A*betta[-1]) / (B + A*alpha[-1])]\n",
        "  print(len(alpha))\n",
        "  for i in range(N-2, -1, -1):\n",
        "    y.append(alpha[i] * y[N-2-i] + betta[i])\n",
        "\n",
        "  return x, y\n",
        "\n",
        "a = -1\n",
        "b = 1\n",
        "eps = 0.05\n",
        "N = 100\n",
        "\n",
        "x, y = progonka(a, b, N, eps, f, q, u)\n",
        "\n",
        "fig, ax = plt.subplots()\n",
        "ax.scatter(x, y)\n",
        "plt.show()\n",
        "\n",
        "\n"
      ]
    }
  ]
}